{
 "cells": [
  {
   "cell_type": "markdown",
   "id": "5b71cd57-4f98-4ebd-af1c-4616c4520fe3",
   "metadata": {},
   "source": [
    "# Concrete Strength Prediction using the Saved ML Data Generated in the `concrete-strength.ipynb`"
   ]
  },
  {
   "cell_type": "markdown",
   "id": "ab253d0d-252f-41e5-a377-fe13039c4c7e",
   "metadata": {},
   "source": [
    "## Importing Libraries"
   ]
  },
  {
   "cell_type": "code",
   "execution_count": 1,
   "id": "19014dbe-2554-4109-91d9-e3f90860071e",
   "metadata": {},
   "outputs": [],
   "source": [
    "import numpy as np\n",
    "import pandas as pd\n",
    "import matplotlib.pyplot as plt"
   ]
  },
  {
   "cell_type": "markdown",
   "id": "8a39675b-8faa-41c0-94c4-e588a4a17f05",
   "metadata": {},
   "source": [
    "## Load ML Data"
   ]
  },
  {
   "cell_type": "code",
   "execution_count": 2,
   "id": "ac3565df-0d63-4674-87bb-73d56957c117",
   "metadata": {},
   "outputs": [],
   "source": [
    "Model_data = np.load('concrete_strength_ml_data.npz')"
   ]
  },
  {
   "cell_type": "markdown",
   "id": "35a8ba47-0de8-42f6-9914-d4302ba65d77",
   "metadata": {},
   "source": [
    "Lets print, information stored in the `Model_data`"
   ]
  },
  {
   "cell_type": "code",
   "execution_count": 3,
   "id": "aeddedf9-9d6f-4a57-b1b2-7020d4e68c35",
   "metadata": {},
   "outputs": [
    {
     "name": "stdout",
     "output_type": "stream",
     "text": [
      "['weights_norm', 'bias_norm', 'feature_mean', 'feature_std', 'pred_guidelines']\n"
     ]
    }
   ],
   "source": [
    "print(Model_data.files)"
   ]
  },
  {
   "cell_type": "markdown",
   "id": "c318c8cb-3f01-4bf1-94f3-0c8c8b3644e9",
   "metadata": {},
   "source": [
    "Lets see the guidelines about using the trained data"
   ]
  },
  {
   "cell_type": "code",
   "execution_count": 4,
   "id": "63a8de76-3d57-4de9-87f6-e480464de1c1",
   "metadata": {},
   "outputs": [
    {
     "name": "stdout",
     "output_type": "stream",
     "text": [
      "\n",
      "x_norm = (x_input - feature_mean) / feature_std   # This is a numpy broadcasting operation\n",
      "y_predict = np.dot(x_norm, weights_norm) + bias_norm\n",
      "\n",
      "feature_title = ['Cement Quantity',      # Kg/m3\n",
      "                 'Blast Furnace Slag',   # Kg/m3\n",
      "                 'Fly Ash',              # Kg/m3\n",
      "                 'Water',                # Kg/m3\n",
      "                 'Superplasticizer',     # Kg/m3\n",
      "                 'Coarse Aggregate',     # Kg/m3\n",
      "                 'Fine Aggregate',       # Kg/m3\n",
      "                 'Age']                  # days\n",
      "                 \n",
      "Only one output is expected, that is concrete strength in MPa\n",
      "\n"
     ]
    }
   ],
   "source": [
    "print(Model_data['pred_guidelines'])"
   ]
  },
  {
   "cell_type": "markdown",
   "id": "7f004fa3-ac12-4a5e-8180-403414090308",
   "metadata": {},
   "source": [
    "These guidelines recommend that to use the saved weights and biases for prediction, the input data should be normalized using the mean (`feature_mean`) and standard deviation (`feature_std`) of the features, as the weights and biases were trained on normalized data."
   ]
  },
  {
   "cell_type": "code",
   "execution_count": 5,
   "id": "2d7ddc63-1342-4ad1-8e69-a2519432cd8b",
   "metadata": {},
   "outputs": [],
   "source": [
    "New_input_feature = np.array([500,\n",
    "                              100,\n",
    "                              50,\n",
    "                              120,\n",
    "                              20,\n",
    "                              1200,\n",
    "                              800,\n",
    "                              28])"
   ]
  },
  {
   "cell_type": "code",
   "execution_count": 6,
   "id": "5b53268a-8fe0-4dae-8d3c-600eeddd1c18",
   "metadata": {
    "tags": []
   },
   "outputs": [
    {
     "name": "stdout",
     "output_type": "stream",
     "text": [
      "Predicted Concrete Strength in MPa =  77.43929061369164  MPa\n"
     ]
    }
   ],
   "source": [
    "x_norm = (New_input_feature - Model_data['feature_mean']) / Model_data['feature_std']   # This is a numpy broadcasting operation\n",
    "y_predict = np.dot(x_norm, Model_data['weights_norm']) + Model_data['bias_norm']\n",
    "\n",
    "print('Predicted Concrete Strength in MPa = ', y_predict, ' MPa')"
   ]
  }
 ],
 "metadata": {
  "kernelspec": {
   "display_name": "Python 3 (ipykernel)",
   "language": "python",
   "name": "python3"
  },
  "language_info": {
   "codemirror_mode": {
    "name": "ipython",
    "version": 3
   },
   "file_extension": ".py",
   "mimetype": "text/x-python",
   "name": "python",
   "nbconvert_exporter": "python",
   "pygments_lexer": "ipython3",
   "version": "3.9.13"
  }
 },
 "nbformat": 4,
 "nbformat_minor": 5
}
